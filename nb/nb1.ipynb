{
 "cells": [
  {
   "cell_type": "code",
   "execution_count": 1,
   "metadata": {
    "execution": {
     "iopub.execute_input": "2020-12-25T11:56:47.035045Z",
     "iopub.status.busy": "2020-12-25T11:56:47.034260Z",
     "iopub.status.idle": "2020-12-25T11:56:47.036208Z",
     "shell.execute_reply": "2020-12-25T11:56:47.036619Z"
    },
    "jupyter": {
     "source_hidden": true
    },
    "papermill": {
     "duration": 0.015186,
     "end_time": "2020-12-25T11:56:47.036930",
     "exception": false,
     "start_time": "2020-12-25T11:56:47.021744",
     "status": "completed"
    },
    "tags": []
   },
   "outputs": [],
   "source": [
    "import random"
   ]
  },
  {
   "cell_type": "code",
   "execution_count": 2,
   "metadata": {
    "execution": {
     "iopub.execute_input": "2020-12-25T11:56:47.048256Z",
     "iopub.status.busy": "2020-12-25T11:56:47.047685Z",
     "iopub.status.idle": "2020-12-25T11:56:47.049426Z",
     "shell.execute_reply": "2020-12-25T11:56:47.049864Z"
    },
    "jupyter": {
     "source_hidden": true
    },
    "papermill": {
     "duration": 0.008727,
     "end_time": "2020-12-25T11:56:47.050024",
     "exception": false,
     "start_time": "2020-12-25T11:56:47.041297",
     "status": "completed"
    },
    "tags": []
   },
   "outputs": [],
   "source": [
    "random.seed(42)"
   ]
  },
  {
   "cell_type": "code",
   "execution_count": 3,
   "metadata": {
    "execution": {
     "iopub.execute_input": "2020-12-25T11:56:47.065879Z",
     "iopub.status.busy": "2020-12-25T11:56:47.064991Z",
     "iopub.status.idle": "2020-12-25T11:56:47.067877Z",
     "shell.execute_reply": "2020-12-25T11:56:47.068266Z"
    },
    "jupyter": {
     "source_hidden": true
    },
    "papermill": {
     "duration": 0.014827,
     "end_time": "2020-12-25T11:56:47.068462",
     "exception": false,
     "start_time": "2020-12-25T11:56:47.053635",
     "status": "completed"
    },
    "tags": []
   },
   "outputs": [
    {
     "data": {
      "text/plain": [
       "[0.6394267984578837,\n",
       " 0.025010755222666936,\n",
       " 0.27502931836911926,\n",
       " 0.22321073814882275,\n",
       " 0.7364712141640124,\n",
       " 0.6766994874229113,\n",
       " 0.8921795677048454,\n",
       " 0.08693883262941615,\n",
       " 0.4219218196852704,\n",
       " 0.029797219438070344]"
      ]
     },
     "execution_count": 3,
     "metadata": {},
     "output_type": "execute_result"
    }
   ],
   "source": [
    "a = [random.random() for _ in range(10)]\n",
    "a"
   ]
  },
  {
   "cell_type": "code",
   "execution_count": 4,
   "metadata": {
    "execution": {
     "iopub.execute_input": "2020-12-25T11:56:47.080525Z",
     "iopub.status.busy": "2020-12-25T11:56:47.079875Z",
     "iopub.status.idle": "2020-12-25T11:56:47.082387Z",
     "shell.execute_reply": "2020-12-25T11:56:47.082778Z"
    },
    "jupyter": {
     "source_hidden": true
    },
    "papermill": {
     "duration": 0.010352,
     "end_time": "2020-12-25T11:56:47.082940",
     "exception": false,
     "start_time": "2020-12-25T11:56:47.072588",
     "status": "completed"
    },
    "tags": []
   },
   "outputs": [
    {
     "data": {
      "text/plain": [
       "[0.21863797480360336,\n",
       " 0.5053552881033624,\n",
       " 0.026535969683863625,\n",
       " 0.1988376506866485,\n",
       " 0.6498844377795232,\n",
       " 0.5449414806032167,\n",
       " 0.2204406220406967,\n",
       " 0.5892656838759087,\n",
       " 0.8094304566778266,\n",
       " 0.006498759678061017]"
      ]
     },
     "execution_count": 4,
     "metadata": {},
     "output_type": "execute_result"
    }
   ],
   "source": [
    "b = [random.random() for _ in range(10)]\n",
    "b"
   ]
  },
  {
   "cell_type": "code",
   "execution_count": 5,
   "metadata": {
    "execution": {
     "iopub.execute_input": "2020-12-25T11:56:47.094941Z",
     "iopub.status.busy": "2020-12-25T11:56:47.094259Z",
     "iopub.status.idle": "2020-12-25T11:56:47.097284Z",
     "shell.execute_reply": "2020-12-25T11:56:47.096870Z"
    },
    "jupyter": {
     "source_hidden": true
    },
    "papermill": {
     "duration": 0.010205,
     "end_time": "2020-12-25T11:56:47.097466",
     "exception": false,
     "start_time": "2020-12-25T11:56:47.087261",
     "status": "completed"
    },
    "tags": []
   },
   "outputs": [
    {
     "data": {
      "text/plain": [
       "[0.8580647732614871,\n",
       " 0.5303660433260293,\n",
       " 0.3015652880529829,\n",
       " 0.42204838883547124,\n",
       " 1.3863556519435356,\n",
       " 1.221640968026128,\n",
       " 1.112620189745542,\n",
       " 0.6762045165053249,\n",
       " 1.231352276363097,\n",
       " 0.03629597911613136]"
      ]
     },
     "execution_count": 5,
     "metadata": {},
     "output_type": "execute_result"
    }
   ],
   "source": [
    "[ai + bi for ai, bi in zip(a, b)]"
   ]
  },
  {
   "cell_type": "code",
   "execution_count": null,
   "metadata": {
    "jupyter": {
     "source_hidden": true
    },
    "papermill": {
     "duration": 0.00423,
     "end_time": "2020-12-25T11:56:47.106002",
     "exception": false,
     "start_time": "2020-12-25T11:56:47.101772",
     "status": "completed"
    },
    "tags": []
   },
   "outputs": [],
   "source": []
  }
 ],
 "metadata": {
  "kernelspec": {
   "display_name": "Python 3",
   "language": "python",
   "name": "python3"
  },
  "language_info": {
   "codemirror_mode": {
    "name": "ipython",
    "version": 3
   },
   "file_extension": ".py",
   "mimetype": "text/x-python",
   "name": "python",
   "nbconvert_exporter": "python",
   "pygments_lexer": "ipython3",
   "version": "3.8.6"
  },
  "papermill": {
   "default_parameters": {},
   "duration": 1.246241,
   "end_time": "2020-12-25T11:56:47.323303",
   "environment_variables": {},
   "exception": null,
   "input_path": "./nb/nb1.ipynb",
   "output_path": "./nb/nb1.ipynb",
   "parameters": {},
   "start_time": "2020-12-25T11:56:46.077062",
   "version": "2.2.2"
  }
 },
 "nbformat": 4,
 "nbformat_minor": 4
}