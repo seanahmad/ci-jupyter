{
 "cells": [
  {
   "cell_type": "code",
   "execution_count": 1,
   "metadata": {
    "execution": {
     "iopub.execute_input": "2020-12-25T11:11:33.994513Z",
     "iopub.status.busy": "2020-12-25T11:11:33.993888Z",
     "iopub.status.idle": "2020-12-25T11:11:34.092291Z",
     "shell.execute_reply": "2020-12-25T11:11:34.092871Z"
    },
    "papermill": {
     "duration": 0.110775,
     "end_time": "2020-12-25T11:11:34.093333",
     "exception": false,
     "start_time": "2020-12-25T11:11:33.982558",
     "status": "completed"
    },
    "tags": []
   },
   "outputs": [],
   "source": [
    "import numpy as np"
   ]
  },
  {
   "cell_type": "code",
   "execution_count": 2,
   "metadata": {
    "execution": {
     "iopub.execute_input": "2020-12-25T11:11:34.105554Z",
     "iopub.status.busy": "2020-12-25T11:11:34.104835Z",
     "iopub.status.idle": "2020-12-25T11:11:34.107127Z",
     "shell.execute_reply": "2020-12-25T11:11:34.107542Z"
    },
    "papermill": {
     "duration": 0.010177,
     "end_time": "2020-12-25T11:11:34.107777",
     "exception": false,
     "start_time": "2020-12-25T11:11:34.097600",
     "status": "completed"
    },
    "tags": []
   },
   "outputs": [],
   "source": [
    "np.random.seed(42)"
   ]
  },
  {
   "cell_type": "code",
   "execution_count": 3,
   "metadata": {
    "execution": {
     "iopub.execute_input": "2020-12-25T11:11:34.123352Z",
     "iopub.status.busy": "2020-12-25T11:11:34.122679Z",
     "iopub.status.idle": "2020-12-25T11:11:34.125489Z",
     "shell.execute_reply": "2020-12-25T11:11:34.125907Z"
    },
    "papermill": {
     "duration": 0.014802,
     "end_time": "2020-12-25T11:11:34.126155",
     "exception": false,
     "start_time": "2020-12-25T11:11:34.111353",
     "status": "completed"
    },
    "tags": []
   },
   "outputs": [
    {
     "data": {
      "text/plain": [
       "array([ 0.49671415, -0.1382643 ,  0.64768854,  1.52302986, -0.23415337,\n",
       "       -0.23413696,  1.57921282,  0.76743473, -0.46947439,  0.54256004])"
      ]
     },
     "execution_count": 3,
     "metadata": {},
     "output_type": "execute_result"
    }
   ],
   "source": [
    "a = np.random.randn(10)\n",
    "a"
   ]
  },
  {
   "cell_type": "code",
   "execution_count": 4,
   "metadata": {
    "execution": {
     "iopub.execute_input": "2020-12-25T11:11:34.137913Z",
     "iopub.status.busy": "2020-12-25T11:11:34.137229Z",
     "iopub.status.idle": "2020-12-25T11:11:34.139865Z",
     "shell.execute_reply": "2020-12-25T11:11:34.140286Z"
    },
    "papermill": {
     "duration": 0.010428,
     "end_time": "2020-12-25T11:11:34.140536",
     "exception": false,
     "start_time": "2020-12-25T11:11:34.130108",
     "status": "completed"
    },
    "tags": []
   },
   "outputs": [
    {
     "data": {
      "text/plain": [
       "array([-0.46341769, -0.46572975,  0.24196227, -1.91328024, -1.72491783,\n",
       "       -0.56228753, -1.01283112,  0.31424733, -0.90802408, -1.4123037 ])"
      ]
     },
     "execution_count": 4,
     "metadata": {},
     "output_type": "execute_result"
    }
   ],
   "source": [
    "b = np.random.randn(10)\n",
    "b"
   ]
  },
  {
   "cell_type": "code",
   "execution_count": 5,
   "metadata": {
    "execution": {
     "iopub.execute_input": "2020-12-25T11:11:34.152602Z",
     "iopub.status.busy": "2020-12-25T11:11:34.151848Z",
     "iopub.status.idle": "2020-12-25T11:11:34.154570Z",
     "shell.execute_reply": "2020-12-25T11:11:34.154996Z"
    },
    "papermill": {
     "duration": 0.010749,
     "end_time": "2020-12-25T11:11:34.155222",
     "exception": false,
     "start_time": "2020-12-25T11:11:34.144473",
     "status": "completed"
    },
    "tags": []
   },
   "outputs": [
    {
     "data": {
      "text/plain": [
       "array([ 0.03329646, -0.60399405,  0.88965081, -0.39025039, -1.95907121,\n",
       "       -0.79642449,  0.5663817 ,  1.08168206, -1.37749846, -0.86974366])"
      ]
     },
     "execution_count": 5,
     "metadata": {},
     "output_type": "execute_result"
    }
   ],
   "source": [
    "a + b"
   ]
  },
  {
   "cell_type": "code",
   "execution_count": null,
   "metadata": {
    "papermill": {
     "duration": 0.004159,
     "end_time": "2020-12-25T11:11:34.163542",
     "exception": false,
     "start_time": "2020-12-25T11:11:34.159383",
     "status": "completed"
    },
    "tags": []
   },
   "outputs": [],
   "source": []
  }
 ],
 "metadata": {
  "kernelspec": {
   "display_name": "Python 3",
   "language": "python",
   "name": "python3"
  },
  "language_info": {
   "codemirror_mode": {
    "name": "ipython",
    "version": 3
   },
   "file_extension": ".py",
   "mimetype": "text/x-python",
   "name": "python",
   "nbconvert_exporter": "python",
   "pygments_lexer": "ipython3",
   "version": "3.8.6"
  },
  "papermill": {
   "default_parameters": {},
   "duration": 1.34878,
   "end_time": "2020-12-25T11:11:34.381365",
   "environment_variables": {},
   "exception": null,
   "input_path": "./nb/nb1.ipynb",
   "output_path": "./nb/nb1.ipynb",
   "parameters": {},
   "start_time": "2020-12-25T11:11:33.032585",
   "version": "2.2.2"
  }
 },
 "nbformat": 4,
 "nbformat_minor": 4
}