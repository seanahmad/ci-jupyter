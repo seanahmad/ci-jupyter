{
 "cells": [
  {
   "cell_type": "code",
   "execution_count": 1,
   "metadata": {
    "execution": {
     "iopub.execute_input": "2020-12-25T10:49:02.987091Z",
     "iopub.status.busy": "2020-12-25T10:49:02.986513Z",
     "iopub.status.idle": "2020-12-25T10:49:03.119526Z",
     "shell.execute_reply": "2020-12-25T10:49:03.120062Z"
    },
    "papermill": {
     "duration": 0.146324,
     "end_time": "2020-12-25T10:49:03.120439",
     "exception": false,
     "start_time": "2020-12-25T10:49:02.974115",
     "status": "completed"
    },
    "tags": []
   },
   "outputs": [],
   "source": [
    "import numpy as np"
   ]
  },
  {
   "cell_type": "code",
   "execution_count": 2,
   "metadata": {
    "execution": {
     "iopub.execute_input": "2020-12-25T10:49:03.131491Z",
     "iopub.status.busy": "2020-12-25T10:49:03.130788Z",
     "iopub.status.idle": "2020-12-25T10:49:03.132927Z",
     "shell.execute_reply": "2020-12-25T10:49:03.133463Z"
    },
    "papermill": {
     "duration": 0.009321,
     "end_time": "2020-12-25T10:49:03.133669",
     "exception": false,
     "start_time": "2020-12-25T10:49:03.124348",
     "status": "completed"
    },
    "tags": []
   },
   "outputs": [],
   "source": [
    "np.random.seed(42)"
   ]
  },
  {
   "cell_type": "code",
   "execution_count": 3,
   "metadata": {
    "execution": {
     "iopub.execute_input": "2020-12-25T10:49:03.149016Z",
     "iopub.status.busy": "2020-12-25T10:49:03.148298Z",
     "iopub.status.idle": "2020-12-25T10:49:03.151030Z",
     "shell.execute_reply": "2020-12-25T10:49:03.151499Z"
    },
    "papermill": {
     "duration": 0.01453,
     "end_time": "2020-12-25T10:49:03.151734",
     "exception": false,
     "start_time": "2020-12-25T10:49:03.137204",
     "status": "completed"
    },
    "tags": []
   },
   "outputs": [
    {
     "data": {
      "text/plain": [
       "array([ 0.49671415, -0.1382643 ,  0.64768854,  1.52302986, -0.23415337,\n",
       "       -0.23413696,  1.57921282,  0.76743473, -0.46947439,  0.54256004])"
      ]
     },
     "execution_count": 3,
     "metadata": {},
     "output_type": "execute_result"
    }
   ],
   "source": [
    "a = np.random.randn(10)\n",
    "a"
   ]
  },
  {
   "cell_type": "code",
   "execution_count": 4,
   "metadata": {
    "execution": {
     "iopub.execute_input": "2020-12-25T10:49:03.162868Z",
     "iopub.status.busy": "2020-12-25T10:49:03.162168Z",
     "iopub.status.idle": "2020-12-25T10:49:03.164854Z",
     "shell.execute_reply": "2020-12-25T10:49:03.165307Z"
    },
    "papermill": {
     "duration": 0.010034,
     "end_time": "2020-12-25T10:49:03.165546",
     "exception": false,
     "start_time": "2020-12-25T10:49:03.155512",
     "status": "completed"
    },
    "tags": []
   },
   "outputs": [
    {
     "data": {
      "text/plain": [
       "array([-0.46341769, -0.46572975,  0.24196227, -1.91328024, -1.72491783,\n",
       "       -0.56228753, -1.01283112,  0.31424733, -0.90802408, -1.4123037 ])"
      ]
     },
     "execution_count": 4,
     "metadata": {},
     "output_type": "execute_result"
    }
   ],
   "source": [
    "b = np.random.randn(10)\n",
    "b"
   ]
  },
  {
   "cell_type": "code",
   "execution_count": 5,
   "metadata": {
    "execution": {
     "iopub.execute_input": "2020-12-25T10:49:03.177214Z",
     "iopub.status.busy": "2020-12-25T10:49:03.176503Z",
     "iopub.status.idle": "2020-12-25T10:49:03.179189Z",
     "shell.execute_reply": "2020-12-25T10:49:03.179613Z"
    },
    "papermill": {
     "duration": 0.010432,
     "end_time": "2020-12-25T10:49:03.179827",
     "exception": false,
     "start_time": "2020-12-25T10:49:03.169395",
     "status": "completed"
    },
    "tags": []
   },
   "outputs": [
    {
     "data": {
      "text/plain": [
       "array([ 0.03329646, -0.60399405,  0.88965081, -0.39025039, -1.95907121,\n",
       "       -0.79642449,  0.5663817 ,  1.08168206, -1.37749846, -0.86974366])"
      ]
     },
     "execution_count": 5,
     "metadata": {},
     "output_type": "execute_result"
    }
   ],
   "source": [
    "a + b"
   ]
  },
  {
   "cell_type": "code",
   "execution_count": null,
   "metadata": {
    "papermill": {
     "duration": 0.004315,
     "end_time": "2020-12-25T10:49:03.188219",
     "exception": false,
     "start_time": "2020-12-25T10:49:03.183904",
     "status": "completed"
    },
    "tags": []
   },
   "outputs": [],
   "source": []
  }
 ],
 "metadata": {
  "kernelspec": {
   "display_name": "Python 3",
   "language": "python",
   "name": "python3"
  },
  "language_info": {
   "codemirror_mode": {
    "name": "ipython",
    "version": 3
   },
   "file_extension": ".py",
   "mimetype": "text/x-python",
   "name": "python",
   "nbconvert_exporter": "python",
   "pygments_lexer": "ipython3",
   "version": "3.8.6"
  },
  "papermill": {
   "default_parameters": {},
   "duration": 1.48914,
   "end_time": "2020-12-25T10:49:03.404537",
   "environment_variables": {},
   "exception": null,
   "input_path": "./nb/nb1.ipynb",
   "output_path": "./nb/nb1.ipynb",
   "parameters": {},
   "start_time": "2020-12-25T10:49:01.915397",
   "version": "2.2.2"
  }
 },
 "nbformat": 4,
 "nbformat_minor": 4
}