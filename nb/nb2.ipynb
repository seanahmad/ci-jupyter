{
 "cells": [
  {
   "cell_type": "code",
   "execution_count": 1,
   "metadata": {
    "execution": {
     "iopub.execute_input": "2020-12-25T10:49:04.791230Z",
     "iopub.status.busy": "2020-12-25T10:49:04.790634Z",
     "iopub.status.idle": "2020-12-25T10:49:04.869164Z",
     "shell.execute_reply": "2020-12-25T10:49:04.869704Z"
    },
    "papermill": {
     "duration": 0.091558,
     "end_time": "2020-12-25T10:49:04.870134",
     "exception": false,
     "start_time": "2020-12-25T10:49:04.778576",
     "status": "completed"
    },
    "tags": []
   },
   "outputs": [],
   "source": [
    "import numpy as np"
   ]
  },
  {
   "cell_type": "code",
   "execution_count": 2,
   "metadata": {
    "execution": {
     "iopub.execute_input": "2020-12-25T10:49:04.881245Z",
     "iopub.status.busy": "2020-12-25T10:49:04.880595Z",
     "iopub.status.idle": "2020-12-25T10:49:04.882503Z",
     "shell.execute_reply": "2020-12-25T10:49:04.882984Z"
    },
    "papermill": {
     "duration": 0.009054,
     "end_time": "2020-12-25T10:49:04.883225",
     "exception": false,
     "start_time": "2020-12-25T10:49:04.874171",
     "status": "completed"
    },
    "tags": []
   },
   "outputs": [],
   "source": [
    "np.random.seed(42)"
   ]
  },
  {
   "cell_type": "code",
   "execution_count": 3,
   "metadata": {
    "execution": {
     "iopub.execute_input": "2020-12-25T10:49:04.899719Z",
     "iopub.status.busy": "2020-12-25T10:49:04.899030Z",
     "iopub.status.idle": "2020-12-25T10:49:04.901764Z",
     "shell.execute_reply": "2020-12-25T10:49:04.902244Z"
    },
    "papermill": {
     "duration": 0.015533,
     "end_time": "2020-12-25T10:49:04.902472",
     "exception": false,
     "start_time": "2020-12-25T10:49:04.886939",
     "status": "completed"
    },
    "tags": []
   },
   "outputs": [
    {
     "data": {
      "text/plain": [
       "array([ 0.49671415, -0.1382643 ,  0.64768854,  1.52302986, -0.23415337,\n",
       "       -0.23413696,  1.57921282,  0.76743473, -0.46947439,  0.54256004])"
      ]
     },
     "execution_count": 3,
     "metadata": {},
     "output_type": "execute_result"
    }
   ],
   "source": [
    "a = np.random.randn(10)\n",
    "a"
   ]
  },
  {
   "cell_type": "code",
   "execution_count": 4,
   "metadata": {
    "execution": {
     "iopub.execute_input": "2020-12-25T10:49:04.914380Z",
     "iopub.status.busy": "2020-12-25T10:49:04.913663Z",
     "iopub.status.idle": "2020-12-25T10:49:04.917165Z",
     "shell.execute_reply": "2020-12-25T10:49:04.916418Z"
    },
    "papermill": {
     "duration": 0.011156,
     "end_time": "2020-12-25T10:49:04.917410",
     "exception": false,
     "start_time": "2020-12-25T10:49:04.906254",
     "status": "completed"
    },
    "tags": []
   },
   "outputs": [
    {
     "data": {
      "text/plain": [
       "array([-0.46341769, -0.46572975,  0.24196227, -1.91328024, -1.72491783,\n",
       "       -0.56228753, -1.01283112,  0.31424733, -0.90802408, -1.4123037 ])"
      ]
     },
     "execution_count": 4,
     "metadata": {},
     "output_type": "execute_result"
    }
   ],
   "source": [
    "b = np.random.randn(10)\n",
    "b"
   ]
  },
  {
   "cell_type": "code",
   "execution_count": 5,
   "metadata": {
    "execution": {
     "iopub.execute_input": "2020-12-25T10:49:04.930861Z",
     "iopub.status.busy": "2020-12-25T10:49:04.929575Z",
     "iopub.status.idle": "2020-12-25T10:49:04.934594Z",
     "shell.execute_reply": "2020-12-25T10:49:04.933816Z"
    },
    "papermill": {
     "duration": 0.013651,
     "end_time": "2020-12-25T10:49:04.935059",
     "exception": false,
     "start_time": "2020-12-25T10:49:04.921408",
     "status": "completed"
    },
    "tags": []
   },
   "outputs": [
    {
     "data": {
      "text/plain": [
       "array([-0.23018613,  0.0643938 ,  0.15671619, -2.91398294,  0.40389533,\n",
       "        0.13165229, -1.59947589,  0.24116432,  0.42629405, -0.76625956])"
      ]
     },
     "execution_count": 5,
     "metadata": {},
     "output_type": "execute_result"
    }
   ],
   "source": [
    "a * b"
   ]
  },
  {
   "cell_type": "code",
   "execution_count": null,
   "metadata": {
    "papermill": {
     "duration": 0.004727,
     "end_time": "2020-12-25T10:49:04.945138",
     "exception": false,
     "start_time": "2020-12-25T10:49:04.940411",
     "status": "completed"
    },
    "tags": []
   },
   "outputs": [],
   "source": []
  }
 ],
 "metadata": {
  "kernelspec": {
   "display_name": "Python 3",
   "language": "python",
   "name": "python3"
  },
  "language_info": {
   "codemirror_mode": {
    "name": "ipython",
    "version": 3
   },
   "file_extension": ".py",
   "mimetype": "text/x-python",
   "name": "python",
   "nbconvert_exporter": "python",
   "pygments_lexer": "ipython3",
   "version": "3.8.6"
  },
  "papermill": {
   "default_parameters": {},
   "duration": 2.252463,
   "end_time": "2020-12-25T10:49:06.088220",
   "environment_variables": {},
   "exception": null,
   "input_path": "./nb/nb2.ipynb",
   "output_path": "./nb/nb2.ipynb",
   "parameters": {},
   "start_time": "2020-12-25T10:49:03.835757",
   "version": "2.2.2"
  }
 },
 "nbformat": 4,
 "nbformat_minor": 4
}