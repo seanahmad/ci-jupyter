{
 "cells": [
  {
   "cell_type": "code",
   "execution_count": 1,
   "metadata": {
    "execution": {
     "iopub.execute_input": "2020-12-25T11:56:48.724542Z",
     "iopub.status.busy": "2020-12-25T11:56:48.723941Z",
     "iopub.status.idle": "2020-12-25T11:56:48.725999Z",
     "shell.execute_reply": "2020-12-25T11:56:48.726414Z"
    },
    "jupyter": {
     "source_hidden": true
    },
    "papermill": {
     "duration": 0.015311,
     "end_time": "2020-12-25T11:56:48.726678",
     "exception": false,
     "start_time": "2020-12-25T11:56:48.711367",
     "status": "completed"
    },
    "tags": []
   },
   "outputs": [],
   "source": [
    "import random"
   ]
  },
  {
   "cell_type": "code",
   "execution_count": 2,
   "metadata": {
    "execution": {
     "iopub.execute_input": "2020-12-25T11:56:48.738147Z",
     "iopub.status.busy": "2020-12-25T11:56:48.737574Z",
     "iopub.status.idle": "2020-12-25T11:56:48.739426Z",
     "shell.execute_reply": "2020-12-25T11:56:48.739833Z"
    },
    "jupyter": {
     "source_hidden": true
    },
    "papermill": {
     "duration": 0.009065,
     "end_time": "2020-12-25T11:56:48.740009",
     "exception": false,
     "start_time": "2020-12-25T11:56:48.730944",
     "status": "completed"
    },
    "tags": []
   },
   "outputs": [],
   "source": [
    "random.seed(42)"
   ]
  },
  {
   "cell_type": "code",
   "execution_count": 3,
   "metadata": {
    "execution": {
     "iopub.execute_input": "2020-12-25T11:56:48.755978Z",
     "iopub.status.busy": "2020-12-25T11:56:48.755359Z",
     "iopub.status.idle": "2020-12-25T11:56:48.757867Z",
     "shell.execute_reply": "2020-12-25T11:56:48.758269Z"
    },
    "jupyter": {
     "source_hidden": true
    },
    "papermill": {
     "duration": 0.014792,
     "end_time": "2020-12-25T11:56:48.758459",
     "exception": false,
     "start_time": "2020-12-25T11:56:48.743667",
     "status": "completed"
    },
    "tags": []
   },
   "outputs": [
    {
     "data": {
      "text/plain": [
       "[0.6394267984578837,\n",
       " 0.025010755222666936,\n",
       " 0.27502931836911926,\n",
       " 0.22321073814882275,\n",
       " 0.7364712141640124,\n",
       " 0.6766994874229113,\n",
       " 0.8921795677048454,\n",
       " 0.08693883262941615,\n",
       " 0.4219218196852704,\n",
       " 0.029797219438070344]"
      ]
     },
     "execution_count": 3,
     "metadata": {},
     "output_type": "execute_result"
    }
   ],
   "source": [
    "a = [random.random() for _ in range(10)]\n",
    "a"
   ]
  },
  {
   "cell_type": "code",
   "execution_count": 4,
   "metadata": {
    "execution": {
     "iopub.execute_input": "2020-12-25T11:56:48.770591Z",
     "iopub.status.busy": "2020-12-25T11:56:48.769919Z",
     "iopub.status.idle": "2020-12-25T11:56:48.772508Z",
     "shell.execute_reply": "2020-12-25T11:56:48.772903Z"
    },
    "jupyter": {
     "source_hidden": true
    },
    "papermill": {
     "duration": 0.010499,
     "end_time": "2020-12-25T11:56:48.773068",
     "exception": false,
     "start_time": "2020-12-25T11:56:48.762569",
     "status": "completed"
    },
    "tags": []
   },
   "outputs": [
    {
     "data": {
      "text/plain": [
       "[0.21863797480360336,\n",
       " 0.5053552881033624,\n",
       " 0.026535969683863625,\n",
       " 0.1988376506866485,\n",
       " 0.6498844377795232,\n",
       " 0.5449414806032167,\n",
       " 0.2204406220406967,\n",
       " 0.5892656838759087,\n",
       " 0.8094304566778266,\n",
       " 0.006498759678061017]"
      ]
     },
     "execution_count": 4,
     "metadata": {},
     "output_type": "execute_result"
    }
   ],
   "source": [
    "b = [random.random() for _ in range(10)]\n",
    "b"
   ]
  },
  {
   "cell_type": "code",
   "execution_count": 5,
   "metadata": {
    "execution": {
     "iopub.execute_input": "2020-12-25T11:56:48.785152Z",
     "iopub.status.busy": "2020-12-25T11:56:48.784476Z",
     "iopub.status.idle": "2020-12-25T11:56:48.787108Z",
     "shell.execute_reply": "2020-12-25T11:56:48.787662Z"
    },
    "jupyter": {
     "source_hidden": true
    },
    "papermill": {
     "duration": 0.010454,
     "end_time": "2020-12-25T11:56:48.787835",
     "exception": false,
     "start_time": "2020-12-25T11:56:48.777381",
     "status": "completed"
    },
    "tags": []
   },
   "outputs": [
    {
     "data": {
      "text/plain": [
       "[0.13980298024998355,\n",
       " 0.012639317411233525,\n",
       " 0.007298169654416626,\n",
       " 0.044382698781544584,\n",
       " 0.478621180957782,\n",
       " 0.3687616205996791,\n",
       " 0.196672618876856,\n",
       " 0.05123007066474607,\n",
       " 0.3415163711901881,\n",
       " 0.0001936449682024675]"
      ]
     },
     "execution_count": 5,
     "metadata": {},
     "output_type": "execute_result"
    }
   ],
   "source": [
    "[ai * bi for ai, bi in zip(a, b)]"
   ]
  },
  {
   "cell_type": "code",
   "execution_count": null,
   "metadata": {
    "jupyter": {
     "source_hidden": true
    },
    "papermill": {
     "duration": 0.004288,
     "end_time": "2020-12-25T11:56:48.796422",
     "exception": false,
     "start_time": "2020-12-25T11:56:48.792134",
     "status": "completed"
    },
    "tags": []
   },
   "outputs": [],
   "source": []
  }
 ],
 "metadata": {
  "kernelspec": {
   "display_name": "Python 3",
   "language": "python",
   "name": "python3"
  },
  "language_info": {
   "codemirror_mode": {
    "name": "ipython",
    "version": 3
   },
   "file_extension": ".py",
   "mimetype": "text/x-python",
   "name": "python",
   "nbconvert_exporter": "python",
   "pygments_lexer": "ipython3",
   "version": "3.8.6"
  },
  "papermill": {
   "default_parameters": {},
   "duration": 1.258484,
   "end_time": "2020-12-25T11:56:49.012957",
   "environment_variables": {},
   "exception": null,
   "input_path": "./nb/nb2.ipynb",
   "output_path": "./nb/nb2.ipynb",
   "parameters": {},
   "start_time": "2020-12-25T11:56:47.754473",
   "version": "2.2.2"
  }
 },
 "nbformat": 4,
 "nbformat_minor": 4
}