{
 "cells": [
  {
   "cell_type": "code",
   "execution_count": 1,
   "metadata": {
    "execution": {
     "iopub.execute_input": "2020-12-25T11:11:35.803192Z",
     "iopub.status.busy": "2020-12-25T11:11:35.802485Z",
     "iopub.status.idle": "2020-12-25T11:11:35.804385Z",
     "shell.execute_reply": "2020-12-25T11:11:35.804775Z"
    },
    "papermill": {
     "duration": 0.014529,
     "end_time": "2020-12-25T11:11:35.805036",
     "exception": false,
     "start_time": "2020-12-25T11:11:35.790507",
     "status": "completed"
    },
    "tags": []
   },
   "outputs": [],
   "source": [
    "import random"
   ]
  },
  {
   "cell_type": "code",
   "execution_count": 2,
   "metadata": {
    "execution": {
     "iopub.execute_input": "2020-12-25T11:11:35.815003Z",
     "iopub.status.busy": "2020-12-25T11:11:35.814478Z",
     "iopub.status.idle": "2020-12-25T11:11:35.816146Z",
     "shell.execute_reply": "2020-12-25T11:11:35.816519Z"
    },
    "papermill": {
     "duration": 0.008009,
     "end_time": "2020-12-25T11:11:35.816790",
     "exception": false,
     "start_time": "2020-12-25T11:11:35.808781",
     "status": "completed"
    },
    "tags": []
   },
   "outputs": [],
   "source": [
    "random.seed(42)"
   ]
  },
  {
   "cell_type": "code",
   "execution_count": 3,
   "metadata": {
    "execution": {
     "iopub.execute_input": "2020-12-25T11:11:35.832091Z",
     "iopub.status.busy": "2020-12-25T11:11:35.831399Z",
     "iopub.status.idle": "2020-12-25T11:11:35.833862Z",
     "shell.execute_reply": "2020-12-25T11:11:35.834254Z"
    },
    "papermill": {
     "duration": 0.014625,
     "end_time": "2020-12-25T11:11:35.834502",
     "exception": false,
     "start_time": "2020-12-25T11:11:35.819877",
     "status": "completed"
    },
    "tags": []
   },
   "outputs": [
    {
     "data": {
      "text/plain": [
       "[0.6394267984578837,\n",
       " 0.025010755222666936,\n",
       " 0.27502931836911926,\n",
       " 0.22321073814882275,\n",
       " 0.7364712141640124,\n",
       " 0.6766994874229113,\n",
       " 0.8921795677048454,\n",
       " 0.08693883262941615,\n",
       " 0.4219218196852704,\n",
       " 0.029797219438070344]"
      ]
     },
     "execution_count": 3,
     "metadata": {},
     "output_type": "execute_result"
    }
   ],
   "source": [
    "a = [random.random() for _ in range(10)]\n",
    "a"
   ]
  },
  {
   "cell_type": "code",
   "execution_count": 4,
   "metadata": {
    "execution": {
     "iopub.execute_input": "2020-12-25T11:11:35.845251Z",
     "iopub.status.busy": "2020-12-25T11:11:35.844685Z",
     "iopub.status.idle": "2020-12-25T11:11:35.847084Z",
     "shell.execute_reply": "2020-12-25T11:11:35.847480Z"
    },
    "papermill": {
     "duration": 0.009536,
     "end_time": "2020-12-25T11:11:35.847648",
     "exception": false,
     "start_time": "2020-12-25T11:11:35.838112",
     "status": "completed"
    },
    "tags": []
   },
   "outputs": [
    {
     "data": {
      "text/plain": [
       "[0.21863797480360336,\n",
       " 0.5053552881033624,\n",
       " 0.026535969683863625,\n",
       " 0.1988376506866485,\n",
       " 0.6498844377795232,\n",
       " 0.5449414806032167,\n",
       " 0.2204406220406967,\n",
       " 0.5892656838759087,\n",
       " 0.8094304566778266,\n",
       " 0.006498759678061017]"
      ]
     },
     "execution_count": 4,
     "metadata": {},
     "output_type": "execute_result"
    }
   ],
   "source": [
    "b = [random.random() for _ in range(10)]\n",
    "b"
   ]
  },
  {
   "cell_type": "code",
   "execution_count": 5,
   "metadata": {
    "execution": {
     "iopub.execute_input": "2020-12-25T11:11:35.858952Z",
     "iopub.status.busy": "2020-12-25T11:11:35.858317Z",
     "iopub.status.idle": "2020-12-25T11:11:35.860650Z",
     "shell.execute_reply": "2020-12-25T11:11:35.861046Z"
    },
    "papermill": {
     "duration": 0.009635,
     "end_time": "2020-12-25T11:11:35.861221",
     "exception": false,
     "start_time": "2020-12-25T11:11:35.851586",
     "status": "completed"
    },
    "tags": []
   },
   "outputs": [
    {
     "data": {
      "text/plain": [
       "[0.8580647732614871,\n",
       " 0.5303660433260293,\n",
       " 0.3015652880529829,\n",
       " 0.42204838883547124,\n",
       " 1.3863556519435356,\n",
       " 1.221640968026128,\n",
       " 1.112620189745542,\n",
       " 0.6762045165053249,\n",
       " 1.231352276363097,\n",
       " 0.03629597911613136]"
      ]
     },
     "execution_count": 5,
     "metadata": {},
     "output_type": "execute_result"
    }
   ],
   "source": [
    "[ai + bi for ai, bi in zip(a, b)]"
   ]
  },
  {
   "cell_type": "code",
   "execution_count": null,
   "metadata": {
    "papermill": {
     "duration": 0.004033,
     "end_time": "2020-12-25T11:11:35.869337",
     "exception": false,
     "start_time": "2020-12-25T11:11:35.865304",
     "status": "completed"
    },
    "tags": []
   },
   "outputs": [],
   "source": []
  }
 ],
 "metadata": {
  "kernelspec": {
   "display_name": "Python 3",
   "language": "python",
   "name": "python3"
  },
  "language_info": {
   "codemirror_mode": {
    "name": "ipython",
    "version": 3
   },
   "file_extension": ".py",
   "mimetype": "text/x-python",
   "name": "python",
   "nbconvert_exporter": "python",
   "pygments_lexer": "ipython3",
   "version": "3.8.6"
  },
  "papermill": {
   "default_parameters": {},
   "duration": 1.25844,
   "end_time": "2020-12-25T11:11:36.085807",
   "environment_variables": {},
   "exception": null,
   "input_path": "./nb/nb2.ipynb",
   "output_path": "./nb/nb2.ipynb",
   "parameters": {},
   "start_time": "2020-12-25T11:11:34.827367",
   "version": "2.2.2"
  }
 },
 "nbformat": 4,
 "nbformat_minor": 4
}